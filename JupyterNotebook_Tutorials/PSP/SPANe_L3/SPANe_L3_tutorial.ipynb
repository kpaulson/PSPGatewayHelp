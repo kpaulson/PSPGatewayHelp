{
 "cells": [
  {
   "cell_type": "markdown",
   "id": "dcc5a9de",
   "metadata": {},
   "source": [
    "# SPAN-Electron Level-3 Data Tutorial\n",
    "\n",
    "This document will hopefully serve to explain the structure of the SPAN-E Level 3 data files, and offer some example scripts to plot aspects of the data. This is not an exhaustive description of the instruments, and users should absolutely read the instrument paper [Whittlesey, 2020] for more information:\n",
    "https://iopscience.iop.org/article/10.3847/1538-4365/ab7370\n"
   ]
  },
  {
   "cell_type": "markdown",
   "id": "4292c69b",
   "metadata": {},
   "source": [
    "## How Does SPAN-e Work Anyway?\n",
    "- SPAN-E is an electrostatic analyzer.\n",
    "    - incoming electrons are energy-isolated by diverting the beam\n",
    "- Incoming angle determines which anode is hit by beam.\n",
    "- SPAN-Ae is oriented such that anodes discriminate the incident angle within the ecliptic plane\n",
    "- SPAN-Ae is oriented such that anodes discriminate the incident angle in a plane bysected by the ecliptic.\n",
    "\n",
    "The SPAN instrument is an electrostatic analyzer. A cartoon cross-section of the optics can be seen below. This instrument works by applying voltage differential between the inner purple hemisphere and the the blue/yellow outer shell. This differential generates an electric field that can then be tuned in strength. An incoming population of electrons (shown in red) is diverted by this electric field, and electrons within a specified energy range will successfully travel the curved path without being lost to the walls. In this way, the electron population is filtered into energy steps by stepping through voltage differentials.\n",
    "\n",
    "![Cartoon cross-section of SPAN-E optics design with electron beam path](SPANe_optics_cartoon.jpg \"SPANe Optics Cartoon\")\n",
    "    Graphical cross section of the SPAN-E optics design. The green lines represent the curves of the deflectors, blue represents the top cap and upper outer hemisphere, yellow shows the spoiler section, and purple shows the inner hemisphere. The red curve is a representative travel path for electrons eligible to pass through the analyzer when the hemisphere (purple) is biased, the upper deflector is biased, the lower deflector is at ground, and both the spoiler and upper outer hemisphere (blue and orange) are also held at ground.\n",
    "\n",
    "\n",
    "\n",
    "Underneath this optical structure lies the electronics board, populated with anodes aligned in a circular pattern. The incident electrons strike these anodes, indicating their incoming angle at each energy selection. The SPAN-A and SPAN-B instruments are clocked 90° relative to each other and on opposite sides of the spacecraft, such that together they account for a near 4π steradian view of the electron velocity distribution function.\n"
   ]
  },
  {
   "cell_type": "markdown",
   "id": "1a4e86a6",
   "metadata": {},
   "source": [
    "- What is the quality flag and how to use?\n",
    "\t- Do the labels for the QFs exist in the file?\n",
    "\t- bit9 doesn't really matter - indicates archive differs from survey\n",
    "    - bit7 has to do with ion mass tables\n",
    "    - other bits may or may not be necessary in each use case."
   ]
  },
  {
   "cell_type": "markdown",
   "id": "13965dbe",
   "metadata": {},
   "source": [
    "- L3 - misinterpretation of fov mismatch as science\n",
    "\t- in L3 there is a map of which instrument is contributing to each pixel\n",
    "\t\t- SPX_VS_PA\n",
    "\t\t- something unusual in this plot might indicate fov issue"
   ]
  },
  {
   "cell_type": "markdown",
   "id": "9be521f9",
   "metadata": {},
   "source": [
    "- SPANb turns off when it gets hot during/after(?) Venus encounters\n",
    "\t- Venus3 had this problem"
   ]
  },
  {
   "cell_type": "markdown",
   "id": "d9d1fc80",
   "metadata": {},
   "source": [
    "- Retrace (eg, flyback) is a problem for the highest energy bin"
   ]
  },
  {
   "cell_type": "markdown",
   "id": "91bc6bfc",
   "metadata": {},
   "source": [
    "- 100 eV electrons will launch secondaries\n",
    "\t- This will show up as lower-energy  enhancement (around 0-6 eV?)\n",
    "\t- \"Data below 20 eV should be used with caution\" -> look at instrument paper\n",
    "\t- find some examples from encounters"
   ]
  },
  {
   "cell_type": "markdown",
   "id": "d992ff25",
   "metadata": {},
   "source": [
    "Standard Qs:\n",
    "- What is the quality flag and how to use?\n",
    "\t- Do the labels for the QFs exist in the file?\n",
    "\t- bit9 doesn't really matter - indicates archive differs from survey\n",
    "    - bit7 has to do with ion mass tables\n",
    "    - other bits may or may not be necessary in each use case.\n",
    "- L3 - misinterpretation of fov mismatch as science\n",
    "\t- in L3 there is a map of which instrument is contributing to each pixel\n",
    "\t\t- SPX_VS_PA\n",
    "\t\t- something unusual in this plot might indicate fov issue\n",
    "- SPANb turns off when it gets hot during/after(?) Venus encounters\n",
    "\t- Venus3 had this problem\n",
    "- Retrace (eg, flyback) is a problem for the highest energy bin\n",
    "- 100 eV electrons will launch secondaries\n",
    "\t- This will show up as lower-energy  enhancement (around 0-6 eV?)\n",
    "\t- \"Data below 20 eV should be used with caution\" -> look at instrument paper\n",
    "\t- find some examples from encounters"
   ]
  }
 ],
 "metadata": {
  "kernelspec": {
   "display_name": "Python 3",
   "language": "python",
   "name": "python3"
  },
  "language_info": {
   "codemirror_mode": {
    "name": "ipython",
    "version": 3
   },
   "file_extension": ".py",
   "mimetype": "text/x-python",
   "name": "python",
   "nbconvert_exporter": "python",
   "pygments_lexer": "ipython3",
   "version": "3.9.0"
  }
 },
 "nbformat": 4,
 "nbformat_minor": 5
}
