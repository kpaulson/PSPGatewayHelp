{
 "cells": [
  {
   "cell_type": "markdown",
   "id": "02a96629",
   "metadata": {},
   "source": [
    "# SPC Basic Plotting Tutorial"
   ]
  },
  {
   "cell_type": "markdown",
   "id": "45007904",
   "metadata": {},
   "source": [
    "## Introduction\n",
    "\n",
    "The purpose of this document is to provide a step-by-step introduction to using SPC data within a python environment.  This worksheet assumes that the user has a fully-functioning python environment set up on their computer already, but does not assume any prior knowledge of the python programming language.\n",
    "\n",
    "The data being to be used in this project are from the Solar Probe Cup (SPC), an instrument on the Parker Solar Probe (PSP) spacecraft, which is currently in a heliocentric orbit of varying perihelion distances across encounters.  The SPC instrument is a Faraday cup that measures the plasma that makes up the solar corona and solar wind (primarily protons and alpha particles with energy/charge between ~150 V and 6000 V).\n",
    "\n",
    "SPC produces data nearly continuously whenever the spacecraft is closer than 0.25 AU from the Sun, and sporadically outside of that distance.  The instrument sends its data to the spacecraft (via the suite processor, the “SWEM”), where it is saved in binary files (so-called “Level-0” or “L0” files).  The spacecraft sends those L0 files to the ground via the deep-space network, which forwards them to SAO.  SAO processes these data into higher-level data products that are usable by the science community.  The table below shows those data products:\n",
    "![Table showing descriptions of SPC data products by level](dataLevel_table_image.jpg \"SPC Data Products by Level\")\n",
    "\n",
    "Only L2 and L3 data are publically available, but any information found only in lower-level data products is unlikely to contribute to a scientific argument."
   ]
  },
  {
   "cell_type": "markdown",
   "id": "7ca5d31c",
   "metadata": {},
   "source": [
    "# Open an SPC cdf\n",
    "\n",
    "If the user is unfamiliar with how to open and read cdf files, please look at the notebook in:\n",
    "    JupyterNotebook_Tutorials\\General\\CDF_howTo\n",
    "\n",
    "- Talk about data locations\n",
    "    - w3sweap\n",
    "    - spdf\n",
    "- open file and read in variables\n"
   ]
  },
  {
   "cell_type": "code",
   "execution_count": null,
   "id": "6e283f5e",
   "metadata": {},
   "outputs": [],
   "source": []
  },
  {
   "cell_type": "code",
   "execution_count": null,
   "id": "e04fc9ca",
   "metadata": {},
   "outputs": [],
   "source": []
  }
 ],
 "metadata": {
  "kernelspec": {
   "display_name": "Python 3",
   "language": "python",
   "name": "python3"
  },
  "language_info": {
   "codemirror_mode": {
    "name": "ipython",
    "version": 3
   },
   "file_extension": ".py",
   "mimetype": "text/x-python",
   "name": "python",
   "nbconvert_exporter": "python",
   "pygments_lexer": "ipython3",
   "version": "3.9.0"
  }
 },
 "nbformat": 4,
 "nbformat_minor": 5
}
