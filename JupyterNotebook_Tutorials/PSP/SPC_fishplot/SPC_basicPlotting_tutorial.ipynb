{
 "cells": [
  {
   "cell_type": "markdown",
   "id": "02a96629",
   "metadata": {},
   "source": [
    "# SPC Basic Plotting Tutorial"
   ]
  },
  {
   "cell_type": "markdown",
   "id": "45007904",
   "metadata": {},
   "source": [
    "## Introduction\n",
    "\n",
    "The purpose of this document is to provide a step-by-step introduction to using data from the Solar Probe Cup (SPC) within a python environment.  This worksheet assumes that the user has a fully-functioning python environment set up on their computer already, but does not assume any prior knowledge of the python programming language.\n",
    "\n",
    "The data being to be used in this project are from the Solar Probe Cup (SPC), an instrument on the Parker Solar Probe (PSP) spacecraft, which is currently in a heliocentric orbit of varying perihelion distances across encounters.  The SPC instrument is a Faraday cup that measures the plasma that makes up the solar corona and solar wind (primarily protons and alpha particles with energy/charge between ~150 V and 6000 V).\n",
    "\n",
    "SPC produces data nearly continuously whenever the spacecraft is closer than 0.25 AU from the Sun, and sporadically outside of that distance.  The instrument sends its data to the spacecraft (via the suite processor, the “SWEM”), where it is saved in binary files (so-called “Level-0” or “L0” files).  The spacecraft sends those L0 files to the ground via the deep-space network, which forwards them to SAO.  SAO processes these data into higher-level data products that are usable by the science community.  The table below shows those data products:\n",
    "\n",
    "| Data Processing Level | Description | Publicly Available |\n",
    "|:---------------------:|:------------|:------------------:|\n",
    "| L0                    | Binary files with all types of data combined, and not necessarily sorted by date/time                                                                                                                                                                                                                                                                                                                                                                              | No                 |\n",
    "| L1                    | Files separated by “application identifier” (APID), time-ordered, and sorted into daily files, and converted into CDF format                                                                                                                                                                                                                                                                                                                                       | No                 |\n",
    "| L2                    | Data units are converted from digital numbers into physically-meaningful units. In general, the level-2 files contain \"spectra\". That is, they contain the current or flux of particles measured as a function of energy/charge.<br><br>Files are separated based on content:<br>- l2: \"master\" file: all science data combined<br>- l2i: data only from \"ion mode\"<br>- l2e: data only from \"electron mode\"<br>- l2ifa: data only from “flux-angle mode”<br>- l2ical: data from calibration periods while in ion mode<br>- l2hsk: data from the housekeeping packets | Yes                |\n",
    "| L3                    | The spectra from the L2 files are analyzed to produce an estimate of the bulk fluid parameters of the plasma (i.e., velocity, density, temperature). This can be done by taking moments of the spectrum (or some portion of the spectrum) or by fitting the spectrum with a functional form whose free parameters are the fluid parameters of interest (e.g., a Maxwellian). The resulting values from those multiple methods are all contained in these files.    | Yes                |\n",
    "\n",
    "\n",
    "Only L2 and L3 data are publically available, but any information found only in lower-level data products is unlikely to contribute to a scientific argument. Typically, scientists will be most confortable using the L3 data products that reduce the measurements into fundamental properties of the plasma. However, specific analyses may require examining the L2 spectra for anomalous signals or even to generate your own fits to the recorded data."
   ]
  },
  {
   "cell_type": "markdown",
   "id": "7ca5d31c",
   "metadata": {},
   "source": [
    "# Open an SPC cdf\n",
    "\n",
    "If the user is unfamiliar with CDF files, please look at the notebook in:\n",
    "    JupyterNotebook_Tutorials\\General\\CDF_howTo\n",
    "There we go into detail explaining different methods of opening and reading CDFs.\n",
    "\n",
    "The public archive of SPC data can be accessed here:\n",
    "http://w3sweap.cfa.harvard.edu/pub/data/sci/sweap/spc/\n",
    "Additionally, all datasets stored here can be accessed through the NASA SPDF CDAWeb repository:\n",
    "https://cdaweb.gsfc.nasa.gov/index.html/\n",
    "\n",
    "- Talk about data locations\n",
    "    - w3sweap\n",
    "    - spdf\n",
    "- open file and read in variables\n"
   ]
  },
  {
   "cell_type": "code",
   "execution_count": null,
   "id": "ee5f833f",
   "metadata": {},
   "outputs": [],
   "source": [
    "import cdflib\n",
    "import numpy as np\n",
    "from matplotlib import pyplot as plt\n",
    "import datetime"
   ]
  },
  {
   "cell_type": "code",
   "execution_count": null,
   "id": "e04fc9ca",
   "metadata": {},
   "outputs": [],
   "source": [
    "import "
   ]
  }
 ],
 "metadata": {
  "kernelspec": {
   "display_name": "Python 3",
   "language": "python",
   "name": "python3"
  },
  "language_info": {
   "codemirror_mode": {
    "name": "ipython",
    "version": 3
   },
   "file_extension": ".py",
   "mimetype": "text/x-python",
   "name": "python",
   "nbconvert_exporter": "python",
   "pygments_lexer": "ipython3",
   "version": "3.9.0"
  }
 },
 "nbformat": 4,
 "nbformat_minor": 5
}
