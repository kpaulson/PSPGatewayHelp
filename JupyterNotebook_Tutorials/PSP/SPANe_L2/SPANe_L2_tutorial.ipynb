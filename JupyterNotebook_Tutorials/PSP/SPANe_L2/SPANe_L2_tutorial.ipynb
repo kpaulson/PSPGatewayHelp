{
 "cells": [
  {
   "cell_type": "markdown",
   "id": "1aa7a88f",
   "metadata": {},
   "source": [
    "# SPAN-Electron Level-2 Data Tutorial\n",
    "\n",
    "This document will hopefully serve to explain the structure of the SPAN-E Level 2 data files, and offer some example scripts to plot aspects of the data. This is not an exhaustive description of the instruments, and users should absolutely read the instrument paper [Whittlesey, 2020] for more information:\n",
    "https://iopscience.iop.org/article/10.3847/1538-4365/ab7370"
   ]
  },
  {
   "cell_type": "markdown",
   "id": "d5e6d5f9",
   "metadata": {},
   "source": [
    "## Brief instrument FOV description with plots"
   ]
  },
  {
   "cell_type": "markdown",
   "id": "e4430eb7",
   "metadata": {},
   "source": [
    "## L2 Data description and source. Download a file?"
   ]
  },
  {
   "cell_type": "markdown",
   "id": "e9a6fcec",
   "metadata": {},
   "source": [
    "## Plot aspects of L2 file for A/B separately or talk about how to combine both?"
   ]
  }
 ],
 "metadata": {
  "kernelspec": {
   "display_name": "Python 3",
   "language": "python",
   "name": "python3"
  },
  "language_info": {
   "codemirror_mode": {
    "name": "ipython",
    "version": 3
   },
   "file_extension": ".py",
   "mimetype": "text/x-python",
   "name": "python",
   "nbconvert_exporter": "python",
   "pygments_lexer": "ipython3",
   "version": "3.9.0"
  }
 },
 "nbformat": 4,
 "nbformat_minor": 5
}
