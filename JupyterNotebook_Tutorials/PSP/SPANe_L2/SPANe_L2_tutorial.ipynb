{
 "cells": [
  {
   "cell_type": "markdown",
   "id": "0e71d176",
   "metadata": {},
   "source": [
    "# SPAN-Electron Level-2 Data Tutorial\n",
    "\n",
    "This document will hopefully serve to explain the structure of the SPAN-E Level 2 data files, and offer some example scripts to plot aspects of the data. This is not an exhaustive description of the instruments, and users should absolutely read the instrument paper [Whittlesey, 2020] for more information:\n",
    "https://iopscience.iop.org/article/10.3847/1538-4365/ab7370"
   ]
  },
  {
   "cell_type": "markdown",
   "id": "acc34f83",
   "metadata": {},
   "source": [
    "## Brief instrument FOV description with plots"
   ]
  },
  {
   "cell_type": "markdown",
   "id": "b6a98fb8",
   "metadata": {},
   "source": [
    "- SPAN-E is an electrostatic analyzer.\n",
    "    - incoming electrons are energy-isolated by diverting the beam\n",
    "- Incoming angle determines which anode is hit by beam.\n",
    "- SPAN-Ae is oriented such that anodes discriminate the incident angle within the ecliptic plane\n",
    "- SPAN-Ae is oriented such that anodes discriminate the incident angle in a plane bysected by the ecliptic.\n",
    "\n",
    "![Cartoon cross-section of SPAN-E optics design with electron beam path](SPANe_optics_cartoon.jpg \"SPANe Optics Cartoon\")\n",
    "Graphical cross section of the SPAN-E optics design. The green lines represent the curves of the deflectors, blue represents the top cap and upper outer hemisphere, yellow shows the spoiler section, and purple shows the inner hemisphere. The red curve is a representative travel path for electrons eligible to pass through the analyzer when the hemisphere (purple) is biased, the upper deflector is biased, the lower deflector is at ground, and both the spoiler and upper outer hemisphere (blue and orange) are also held at ground.\n",
    "\n"
   ]
  },
  {
   "cell_type": "markdown",
   "id": "7cac2d42",
   "metadata": {},
   "source": [
    "## L2 Data description and source. Download a file?"
   ]
  },
  {
   "cell_type": "markdown",
   "id": "97fbd908",
   "metadata": {},
   "source": [
    "## Plot aspects of L2 file for A/B separately or talk about how to combine both?"
   ]
  }
 ],
 "metadata": {
  "kernelspec": {
   "display_name": "Python 3",
   "language": "python",
   "name": "python3"
  },
  "language_info": {
   "codemirror_mode": {
    "name": "ipython",
    "version": 3
   },
   "file_extension": ".py",
   "mimetype": "text/x-python",
   "name": "python",
   "nbconvert_exporter": "python",
   "pygments_lexer": "ipython3",
   "version": "3.9.0"
  }
 },
 "nbformat": 4,
 "nbformat_minor": 5
}
