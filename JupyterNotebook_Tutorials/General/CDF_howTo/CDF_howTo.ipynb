{
 "cells": [
  {
   "cell_type": "markdown",
   "id": "86104a27",
   "metadata": {},
   "source": [
    "# How to Open/Read a CDF File"
   ]
  },
  {
   "cell_type": "markdown",
   "id": "40e1e1c3",
   "metadata": {},
   "source": [
    "This document should serve to cover the basics of how to open and read data saved in the cdf format."
   ]
  },
  {
   "cell_type": "markdown",
   "id": "6f623972",
   "metadata": {},
   "source": [
    "## Install CDF library\n",
    "\n",
    "Navigate to latest cdf library and direct to installation packages"
   ]
  },
  {
   "cell_type": "markdown",
   "id": "e5ba7b08",
   "metadata": {},
   "source": [
    "## Download a cdf\n",
    "\n",
    "Download with wget\n",
    "\n",
    "Explain manual downloads"
   ]
  },
  {
   "cell_type": "markdown",
   "id": "4cfce023",
   "metadata": {},
   "source": [
    "## Open a cdf file\n",
    "Open with cdflib, look at variables\n",
    "\n",
    "Open with spacepy, look at variables\n",
    "\n",
    "Look at global metadata"
   ]
  },
  {
   "cell_type": "markdown",
   "id": "8ca7f08f",
   "metadata": {},
   "source": [
    "## Examine attributes\n",
    "\n",
    "Print attributes of a particular element\n",
    "\n",
    "Print some general statement assigning element attributes to variables.\n"
   ]
  },
  {
   "cell_type": "markdown",
   "id": "b5acf094",
   "metadata": {},
   "source": [
    "## Plot data\n",
    "\n",
    "Show basic plot of whole data file, pull in variables from above to add titles and units"
   ]
  },
  {
   "cell_type": "markdown",
   "id": "12f2cf86",
   "metadata": {},
   "source": [
    "## Subset of data\n",
    "\n",
    "Use the bisect function or manually choose indices to just plot a small portion of the data, using same plotting tools as above"
   ]
  }
 ],
 "metadata": {
  "kernelspec": {
   "display_name": "Python 3",
   "language": "python",
   "name": "python3"
  },
  "language_info": {
   "codemirror_mode": {
    "name": "ipython",
    "version": 3
   },
   "file_extension": ".py",
   "mimetype": "text/x-python",
   "name": "python",
   "nbconvert_exporter": "python",
   "pygments_lexer": "ipython3",
   "version": "3.9.0"
  }
 },
 "nbformat": 4,
 "nbformat_minor": 5
}
