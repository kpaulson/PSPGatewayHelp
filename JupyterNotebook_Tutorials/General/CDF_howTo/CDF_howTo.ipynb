{
 "cells": [
  {
   "cell_type": "markdown",
   "id": "86104a27",
   "metadata": {},
   "source": [
    "# How to Open/Read a CDF File"
   ]
  },
  {
   "cell_type": "markdown",
   "id": "40e1e1c3",
   "metadata": {},
   "source": [
    "This document should serve to cover the basics of how to open and read data saved in the cdf format.\n",
    "This will assume you have the following packages installed in your python environment:\n",
    "- cdflib\n",
    "- spacepy\n",
    "- matplotlib\n",
    "- numpy\n",
    "- wget\n",
    "\n",
    "\n",
    "## What is a CDF file?\n",
    "\n",
    "The Common Data Format (CDF), this is a format that has been championed by NASA recently. It is very common for more recent data recorded by in situ measurements as well as reprocessed data from older missions. More information on CDF and tools can be found here:\n",
    "https://cdf.gsfc.nasa.gov/\n",
    "\n",
    "The CDF allows for a more flexible storage of data variables that may or may not have different lengths. For example, if you had temperature measurements at several points in space recorded at certain times, a standard way to store this information in an ascii table would be like so:\n",
    "    <img src=\"basicDataTable.jpg\">\n",
    "As you can see, this relies on repeated measurement values to properly show each unique combination taking up a record number. A cdf file uses pointers within the file connecting higher-dimension arrays (zVariables) to each other and to each record number:\n",
    "    <img src=\"cdfDataTable.jpg\">\n",
    "This allows us to be much more flexible with the way we concatenate data as well as cuts down on storage space. It also is necessary in order to coherently store higher-order arrays.\n",
    "\n",
    "Instructions (extremely detailed) on CDF can be found here: https://spdf.gsfc.nasa.gov/pub/software/cdf/doc/cdf380/cdf380ug.pdf"
   ]
  },
  {
   "cell_type": "markdown",
   "id": "6f623972",
   "metadata": {},
   "source": [
    "## Install CDF library\n",
    "\n",
    "CDF library version 3.8 can be downloaded here: https://spdf.gsfc.nasa.gov/pub/software/cdf/dist/cdf38_0/ \n",
    "\n",
    "For Windows, it is suggested you use the InstallMate installer to automatically set paths. For MacOS, the universal installer is probably easiest.\n",
    "\n",
    "\n",
    "## Install python packages to read CDF\n",
    "\n",
    "The two python packages we will use here to read CDF files are the pycdf package found within the spacepy toolset, and cdflib. These can be installed easily using pip, and possible conda (depending on your version of python). Depending on how you have your environment set up, it should be as simple as:\n",
    "```\n",
    "pip install cdflib\n",
    "pip install spacepy\n",
    "```"
   ]
  },
  {
   "cell_type": "markdown",
   "id": "e5ba7b08",
   "metadata": {},
   "source": [
    "## Download a cdf\n",
    "\n",
    "For the purposes of this demonstration, we will start with a cdf from the Parker Solar Probe FIELDS team. The release notes and information about the data can be found here:\n",
    "https://fields.ssl.berkeley.edu/data/\n",
    "We will first look at the 1-minute downsampled DC magnetic field measurements in RTN coordinates. This is a useful data product for analyzing the survey-level observations of large scale structures and polarity reversals. The RTN coordinate system is helpful to remove any anomalous signals due to spacecraft maneuvers or motion, and is described relative to other popular coordinate systmes here:\n",
    "http://www.srl.caltech.edu/ACE/ASC/coordinate_systems.html\n",
    "For a more in-depth explanation at how to transform between coordinate systems (particulary geocentric orientations) see this article by Hapgood:\n",
    "https://www.sciencedirect.com/science/article/pii/003206339290012D\n",
    "\n",
    "The FIELDS Level-2 data archive can be found here:\n",
    "https://research.ssl.berkeley.edu/data/psp/data/sci/fields/l2/\n",
    "\n",
    "For this demonstration, we will choose a datafile from Encounter 2, on 2019-04-01. The most basic way to access the file we are interested is to navigate to the relevant folder with any web browser and manually download the file to your local directory. The highest-version available is located at this address:\n",
    "https://research.ssl.berkeley.edu/data/psp/data/sci/fields/l2/mag_RTN_1min/2019/04/psp_fld_l2_mag_RTN_1min_20190401_v02.cdf\n",
    "\n",
    "Optionally, we can use wget to download the file. This is particularly helpful for when we want to pull multiple files at a time or switch between different timeranges of interest without having to change our code in multiple places.\n",
    "\n",
    "Below, we outline a script that downloads the relevant file with wget after checking to see if the file is already present in the local folder."
   ]
  },
  {
   "cell_type": "code",
   "execution_count": 3,
   "id": "f04499ee",
   "metadata": {},
   "outputs": [
    {
     "name": "stdout",
     "output_type": "stream",
     "text": [
      "File doesn't exist, downloading\n",
      "100% [..............................................................................] 94347 / 94347"
     ]
    }
   ],
   "source": [
    "import wget\n",
    "import os\n",
    "\n",
    "year  = '2019'\n",
    "month = '04'\n",
    "day   = '01'\n",
    "\n",
    "# By using \"fstrings\" we can easily substitute variables into the filename\n",
    "remoteDirectory = f'https://research.ssl.berkeley.edu/data/psp/data/sci/fields/l2/mag_RTN_1min/{year}/{month}/'\n",
    "remoteFilename = f'psp_fld_l2_mag_RTN_1min_{year}{month}{day}_v02.cdf'\n",
    "\n",
    "if os.path.isfile(remoteFilename):\n",
    "    print (\"File exists already\")\n",
    "    magRTN_file = remoteFilename\n",
    "else:\n",
    "    print (\"File doesn't exist, downloading\")\n",
    "    magRTN_file = wget.download(remoteDirectory + remoteFilename)"
   ]
  },
  {
   "cell_type": "markdown",
   "id": "4cfce023",
   "metadata": {},
   "source": [
    "## Open a cdf file\n",
    "Open with cdflib, look at variables\n",
    "\n",
    "Open with spacepy, look at variables\n",
    "\n",
    "Look at global metadata"
   ]
  },
  {
   "cell_type": "code",
   "execution_count": 11,
   "id": "25e21b60",
   "metadata": {},
   "outputs": [
    {
     "name": "stdout",
     "output_type": "stream",
     "text": [
      "These are the variables within this file:\n",
      "\n",
      "component_index_RTN: CDF_INT4 [3] NRV\n",
      "epoch_mag_RTN_1min: CDF_TIME_TT2000 [1440]\n",
      "epoch_quality_flags: CDF_TIME_TT2000 [1440]\n",
      "label_RTN: CDF_CHAR*3 [3] NRV\n",
      "psp_fld_l2_mag_RTN_1min: CDF_REAL4 [1440, 3]\n",
      "psp_fld_l2_quality_flags: CDF_UINT4 [1440]\n",
      "\n",
      "\n",
      "-------------------------------------\n",
      "\n",
      "\n",
      "These is the global metadata record of the file:\n",
      "\n",
      "Acknowledgement: \n",
      "Data_type: L2>Level 2 Data [CDF_CHAR]\n",
      "Data_version: 02 [CDF_CHAR]\n",
      "Dependencies: None [CDF_CHAR]\n",
      "Descriptor: MAG_RTN_1min>Fluxgate Magnetometer data in RTN coordinates [CDF_CHAR]\n",
      "Discipline: Solar Physics>Heliospheric Physics [CDF_CHAR]\n",
      "            Space Physics>Interplanetary Studies [CDF_CHAR]\n",
      "File_naming_convention: source_datatype_descriptor_yyyyMMdd [CDF_CHAR]\n",
      "Generated_by: PSP FIELDS SOC [CDF_CHAR]\n",
      "Generation_date: Wed Jun 23 23:31:53 2021 [CDF_CHAR]\n",
      "HTTP_LINK: http://fields.ssl.berkeley.edu/data/ [CDF_CHAR]\n",
      "Instrument_type: Magnetic Fields (space) [CDF_CHAR]\n",
      "LINK_TEXT: PSP/FIELDS SOC [CDF_CHAR]\n",
      "LINK_TITLE: PSP/FIELDS MAG data available at [CDF_CHAR]\n",
      "Logical_file_id: psp_fld_l2_mag_RTN_1min_20190401_v02 [CDF_CHAR]\n",
      "Logical_source: psp_fld_l2_mag_RTN_1min [CDF_CHAR]\n",
      "Logical_source_description: PSP FIELDS 1 minute cadence Fluxgate Magnetometer (MAG) data in RTN coordinates [CDF_CHAR]\n",
      "MODS: Version 1: Original release version. [CDF_CHAR]\n",
      "      Version 2: Timing correction for coordinate transformations, corrections for non-orthogonality of sensor axes, and phase shift compensating for downsampling filter. [CDF_CHAR]\n",
      "Mission_group: PSP [CDF_CHAR]\n",
      "PI_affiliation: UC Berkeley Space Sciences Laboratory [CDF_CHAR]\n",
      "PI_name: Stuart D. Bale (bale@berkeley.edu) [CDF_CHAR]\n",
      "Parents: spp_fld_l1_mago_hk_20190331_v00.cdf [CDF_CHAR]\n",
      "         spp_fld_l1_mago_hk_20190401_v00.cdf [CDF_CHAR]\n",
      "         spp_fld_l1_mago_hk_20190402_v00.cdf [CDF_CHAR]\n",
      "         spp_fld_l1_mago_survey_20190331_v00.cdf [CDF_CHAR]\n",
      "         spp_fld_l1_mago_survey_20190401_v00.cdf [CDF_CHAR]\n",
      "         spp_fld_l1_mago_survey_20190402_v00.cdf [CDF_CHAR]\n",
      "Project: PSP [CDF_CHAR]\n",
      "Rules_of_use: PSP/FIELDS Rules of the Road available at http://fields.ssl.berkeley.edu/rules/ [CDF_CHAR]\n",
      "Source_name: PSP_FLD>Parker Solar Probe FIELDS [CDF_CHAR]\n",
      "TEXT: PSP FIELDS Fluxgate Magnetometer data. Time resolution varies with instrument mode, ranging from 2.3-292.9 samples/sec, corresponding to 2-256 samples per 0.874 seconds (0.874 = 2^25 / 38.4 MHz, see reference [2]). [CDF_CHAR]\n",
      "      The Magnetometer has 4 ranges - +/-1024, +/-4096, +/-16,384, +/-65,536 nT, selected by the ranging algorithm, based on the ambient magnetic field. Precision is +/- 15 bits, based on the 16-bit ADC. [CDF_CHAR]\n",
      "      References: [CDF_CHAR]\n",
      "      1. Fox, N.J., Velli, M.C., Bale, S.D. et al. Space Sci Rev (2016) 204: 7. https://doi.org/10.1007/s11214-015-0211-6 [CDF_CHAR]\n",
      "      2. Bale, S.D., Goetz, K., Harvey, P.R. et al. Space Sci Rev (2016) 204: 49. https://doi.org/10.1007/s11214-016-0244-5 [CDF_CHAR]\n",
      "TITLE: PSP FIELDS Fluxgate Magnetometer (MAG) data [CDF_CHAR]\n",
      "Time_resolution: 1 minute [CDF_CHAR]\n",
      "attitude_history_files: spp_2019_090_02.ah.bc [CDF_CHAR]\n",
      "                        spp_2019_091_02.ah.bc [CDF_CHAR]\n",
      "                        spp_2019_092_02.ah.bc [CDF_CHAR]\n",
      "mag_offset_calibration_files: psp_mago_zeros_range0_2019_v10.dat [CDF_CHAR]\n",
      "spase_DatasetResourceID: spase://NASA/NumericalData/ParkerSolarProbe/FIELDS/MAG/Level2/RTN/PT1M [CDF_CHAR]\n",
      "svn_version: 28713 [CDF_CHAR]\n"
     ]
    }
   ],
   "source": [
    "from spacepy import pycdf\n",
    "cdf_magRTN_pycdf = pycdf.CDF(magRTN_file)\n",
    "\n",
    "print('These are the variables within this file:\\n')\n",
    "print(cdf_magRTN_pycdf)\n",
    "\n",
    "print('\\n\\n-------------------------------------\\n\\n')\n",
    "print('These is the global metadata record of the file:\\n')\n",
    "print(cdf_magRTN_pycdf.attrs)"
   ]
  },
  {
   "cell_type": "code",
   "execution_count": 5,
   "id": "f5498929",
   "metadata": {},
   "outputs": [
    {
     "name": "stdout",
     "output_type": "stream",
     "text": [
      "<cdflib.cdfread.CDF object at 0x000001F8654E8A30>\n"
     ]
    }
   ],
   "source": [
    "import cdflib\n",
    "cdf_magRTN_cdflib = cdflib.CDF(magRTN_file)\n",
    "\n",
    "print(cdf_magRTN_cdflib)"
   ]
  },
  {
   "cell_type": "markdown",
   "id": "8ca7f08f",
   "metadata": {},
   "source": [
    "## Examine attributes\n",
    "\n",
    "Print attributes of a particular element\n",
    "\n",
    "Print some general statement assigning element attributes to variables.\n"
   ]
  },
  {
   "cell_type": "markdown",
   "id": "b5acf094",
   "metadata": {},
   "source": [
    "## Plot data\n",
    "\n",
    "Show basic plot of whole data file, pull in variables from above to add titles and units"
   ]
  },
  {
   "cell_type": "markdown",
   "id": "12f2cf86",
   "metadata": {},
   "source": [
    "## Subset of data\n",
    "\n",
    "Use the bisect function or manually choose indices to just plot a small portion of the data, using same plotting tools as above"
   ]
  }
 ],
 "metadata": {
  "kernelspec": {
   "display_name": "Python 3",
   "language": "python",
   "name": "python3"
  },
  "language_info": {
   "codemirror_mode": {
    "name": "ipython",
    "version": 3
   },
   "file_extension": ".py",
   "mimetype": "text/x-python",
   "name": "python",
   "nbconvert_exporter": "python",
   "pygments_lexer": "ipython3",
   "version": "3.9.0"
  }
 },
 "nbformat": 4,
 "nbformat_minor": 5
}
